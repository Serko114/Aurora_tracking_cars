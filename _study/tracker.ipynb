{
 "cells": [
  {
   "cell_type": "code",
   "execution_count": 3,
   "metadata": {},
   "outputs": [
    {
     "name": "stdout",
     "output_type": "stream",
     "text": [
      "(1440, 2160, 3)\n"
     ]
    },
    {
     "name": "stderr",
     "output_type": "stream",
     "text": [
      "Model summary (fused): 218 layers, 25840339 parameters, 0 gradients, 78.7 GFLOPs\n"
     ]
    }
   ],
   "source": [
    "import os\n",
    "import random\n",
    "\n",
    "import cv2\n",
    "from ultralytics import YOLO\n",
    "\n",
    "from deepsorttr import Tracker\n",
    "\n",
    "\n",
    "video_path = os.path.join('videos', '1.mp4')\n",
    "video_out_path = os.path.join('videos', '1_out_3.mp4')\n",
    "\n",
    "cap = cv2.VideoCapture(video_path)\n",
    "ret, frame = cap.read()\n",
    "print(frame.shape)\n",
    "cap_out = cv2.VideoWriter(video_out_path, cv2.VideoWriter_fourcc(*'MP4V'), cap.get(cv2.CAP_PROP_FPS),\n",
    "                          (frame.shape[1], frame.shape[0]))\n",
    "\n",
    "model = YOLO(\"best.pt\")\n",
    "model.fuse()\n",
    "\n",
    "tracker = Tracker()\n",
    "\n",
    "colors = [(random.randint(0, 255), random.randint(0, 255), random.randint(0, 255)) for j in range(10)]\n",
    "\n",
    "detection_threshold = 0.3\n",
    "while ret:\n",
    "\n",
    "    results = model(frame, verbose=False)\n",
    "\n",
    "    for result in results:\n",
    "        detections = []\n",
    "        for r in result.boxes.data.tolist():\n",
    "            x1, y1, x2, y2, score, class_id = r\n",
    "            x1 = int(x1)\n",
    "            x2 = int(x2)\n",
    "            y1 = int(y1)\n",
    "            y2 = int(y2)\n",
    "            class_id = int(class_id)\n",
    "            if score > detection_threshold:\n",
    "                detections.append([x1, y1, x2, y2, score])\n",
    "\n",
    "        tracker.update(frame, detections)\n",
    "\n",
    "        for track in tracker.tracks:\n",
    "            bbox = track.bbox\n",
    "            x1, y1, x2, y2 = bbox\n",
    "            track_id = track.track_id\n",
    "\n",
    "            cv2.rectangle(frame, (int(x1), int(y1)), (int(x2), int(y2)), (colors[track_id % len(colors)]), 3)\n",
    "            # cv2.putText(frame, \"ID: \" + str(track_id), (int(bbox[0]), int(bbox[1] - 10)), cv2.FONT_HERSHEY_SIMPLEX, 1.0, (0, 255, 0), 2)\n",
    "\n",
    "    cap_out.write(frame)\n",
    "    ret, frame = cap.read()\n",
    "    \n",
    "    # cv2.imshow(\"Tracking\", frame)\n",
    "\n",
    "    # # Press 'q' to exit the loop\n",
    "    # if cv2.waitKey(1) & 0xFF == ord('q'):\n",
    "    #     break\n",
    "\n",
    "cap.release()\n",
    "cap_out.release()\n",
    "cv2.destroyAllWindows()"
   ]
  }
 ],
 "metadata": {
  "kernelspec": {
   "display_name": "Python 3",
   "language": "python",
   "name": "python3"
  },
  "language_info": {
   "codemirror_mode": {
    "name": "ipython",
    "version": 3
   },
   "file_extension": ".py",
   "mimetype": "text/x-python",
   "name": "python",
   "nbconvert_exporter": "python",
   "pygments_lexer": "ipython3",
   "version": "3.10.16"
  }
 },
 "nbformat": 4,
 "nbformat_minor": 2
}
